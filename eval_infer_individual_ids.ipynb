{
 "cells": [
  {
   "cell_type": "code",
   "execution_count": 1,
   "id": "fb861832-4268-4d3e-ace7-a29af8304295",
   "metadata": {},
   "outputs": [],
   "source": [
    "%load_ext autoreload\n",
    "%autoreload 2"
   ]
  },
  {
   "cell_type": "markdown",
   "id": "dd11bf85-2feb-4e05-bcd3-e539de731f62",
   "metadata": {},
   "source": [
    "# Import and Setup"
   ]
  },
  {
   "cell_type": "code",
   "execution_count": 9,
   "id": "62b40545-dd88-430b-bb06-d49cee031374",
   "metadata": {},
   "outputs": [],
   "source": [
    "import os\n",
    "os.environ['TF_CPP_MIN_LOG_LEVEL'] = '3'\n",
    "\n",
    "import gc\n",
    "import json\n",
    "import string\n",
    "import random\n",
    "import numpy as np\n",
    "import pandas as pd\n",
    "pd.options.mode.chained_assignment = None\n",
    "\n",
    "from tqdm import tqdm\n",
    "from functools import partial\n",
    "from argparse import Namespace\n",
    "import matplotlib.pyplot as plt\n",
    "\n",
    "import tensorflow as tf\n",
    "from tensorflow.keras.layers import *\n",
    "from tensorflow.keras.models import *\n",
    "\n",
    "import wandb\n",
    "from wandb.keras import WandbCallback\n",
    "\n",
    "from model import SimpleSupervisedtModel, ArcFaceSupervisedModel, get_feature_extractor\n",
    "from config import get_test_config\n",
    "from data import GetDataloader\n",
    "from utils import ShowBatch\n",
    "from callbacks import GetCallbacks"
   ]
  },
  {
   "cell_type": "code",
   "execution_count": 10,
   "id": "75fcb8a6-271b-4863-92a4-f5fc7b84d95a",
   "metadata": {},
   "outputs": [],
   "source": [
    "import pprint\n",
    "pp = pprint.PrettyPrinter(indent=1)"
   ]
  },
  {
   "cell_type": "code",
   "execution_count": 11,
   "id": "dbf06d28-3344-4960-a201-839a58ea6f76",
   "metadata": {},
   "outputs": [],
   "source": [
    "args = get_test_config()\n",
    "args.exp_id = '23005S4V'\n",
    "\n",
    "DEBUG = True\n",
    "MODEL_PATH = f'{args.model_save_path}/{args.exp_id}'\n",
    "TRAIN_EMBED_PATH = f'{args.embedding_save_path}/{args.exp_id}'"
   ]
  },
  {
   "cell_type": "markdown",
   "id": "c24dd1af-22f7-4743-bde6-debe1762618a",
   "metadata": {},
   "source": [
    "# Load Dataframes"
   ]
  },
  {
   "cell_type": "code",
   "execution_count": 12,
   "id": "ec595073-0f4d-4381-a811-aafae2c242e2",
   "metadata": {},
   "outputs": [
    {
     "data": {
      "text/html": [
       "<div>\n",
       "<style scoped>\n",
       "    .dataframe tbody tr th:only-of-type {\n",
       "        vertical-align: middle;\n",
       "    }\n",
       "\n",
       "    .dataframe tbody tr th {\n",
       "        vertical-align: top;\n",
       "    }\n",
       "\n",
       "    .dataframe thead th {\n",
       "        text-align: right;\n",
       "    }\n",
       "</style>\n",
       "<table border=\"1\" class=\"dataframe\">\n",
       "  <thead>\n",
       "    <tr style=\"text-align: right;\">\n",
       "      <th></th>\n",
       "      <th>image</th>\n",
       "      <th>species</th>\n",
       "      <th>individual_id</th>\n",
       "      <th>img_path</th>\n",
       "      <th>fold</th>\n",
       "      <th>target</th>\n",
       "    </tr>\n",
       "  </thead>\n",
       "  <tbody>\n",
       "    <tr>\n",
       "      <th>0</th>\n",
       "      <td>00021adfb725ed.jpg</td>\n",
       "      <td>melon_headed_whale</td>\n",
       "      <td>cadddb1636b9</td>\n",
       "      <td>../128x128/train_images-128-128/train_images-1...</td>\n",
       "      <td>0</td>\n",
       "      <td>0</td>\n",
       "    </tr>\n",
       "    <tr>\n",
       "      <th>1</th>\n",
       "      <td>000562241d384d.jpg</td>\n",
       "      <td>humpback_whale</td>\n",
       "      <td>1a71fbb72250</td>\n",
       "      <td>../128x128/train_images-128-128/train_images-1...</td>\n",
       "      <td>2</td>\n",
       "      <td>1</td>\n",
       "    </tr>\n",
       "    <tr>\n",
       "      <th>2</th>\n",
       "      <td>0007c33415ce37.jpg</td>\n",
       "      <td>false_killer_whale</td>\n",
       "      <td>60008f293a2b</td>\n",
       "      <td>../128x128/train_images-128-128/train_images-1...</td>\n",
       "      <td>4</td>\n",
       "      <td>2</td>\n",
       "    </tr>\n",
       "    <tr>\n",
       "      <th>3</th>\n",
       "      <td>0007d9bca26a99.jpg</td>\n",
       "      <td>bottlenose_dolphin</td>\n",
       "      <td>4b00fe572063</td>\n",
       "      <td>../128x128/train_images-128-128/train_images-1...</td>\n",
       "      <td>4</td>\n",
       "      <td>3</td>\n",
       "    </tr>\n",
       "    <tr>\n",
       "      <th>4</th>\n",
       "      <td>00087baf5cef7a.jpg</td>\n",
       "      <td>humpback_whale</td>\n",
       "      <td>8e5253662392</td>\n",
       "      <td>../128x128/train_images-128-128/train_images-1...</td>\n",
       "      <td>1</td>\n",
       "      <td>4</td>\n",
       "    </tr>\n",
       "  </tbody>\n",
       "</table>\n",
       "</div>"
      ],
      "text/plain": [
       "                image             species individual_id  \\\n",
       "0  00021adfb725ed.jpg  melon_headed_whale  cadddb1636b9   \n",
       "1  000562241d384d.jpg      humpback_whale  1a71fbb72250   \n",
       "2  0007c33415ce37.jpg  false_killer_whale  60008f293a2b   \n",
       "3  0007d9bca26a99.jpg  bottlenose_dolphin  4b00fe572063   \n",
       "4  00087baf5cef7a.jpg      humpback_whale  8e5253662392   \n",
       "\n",
       "                                            img_path  fold  target  \n",
       "0  ../128x128/train_images-128-128/train_images-1...     0       0  \n",
       "1  ../128x128/train_images-128-128/train_images-1...     2       1  \n",
       "2  ../128x128/train_images-128-128/train_images-1...     4       2  \n",
       "3  ../128x128/train_images-128-128/train_images-1...     4       3  \n",
       "4  ../128x128/train_images-128-128/train_images-1...     1       4  "
      ]
     },
     "execution_count": 12,
     "metadata": {},
     "output_type": "execute_result"
    }
   ],
   "source": [
    "train_df = pd.read_csv('../cleaned_train_5_fold_individual_ids.csv')\n",
    "\n",
    "with open('../label2ids_individual_ids.json') as json_file:\n",
    "    label2ids = json.load(json_file)\n",
    "    \n",
    "args.num_labels = len(label2ids)\n",
    "args.labels = label2ids\n",
    "\n",
    "train_df.head()"
   ]
  },
  {
   "cell_type": "code",
   "execution_count": 13,
   "id": "d112bcc7-3ef7-4091-a3d6-eca90b56388b",
   "metadata": {},
   "outputs": [
    {
     "data": {
      "text/html": [
       "<div>\n",
       "<style scoped>\n",
       "    .dataframe tbody tr th:only-of-type {\n",
       "        vertical-align: middle;\n",
       "    }\n",
       "\n",
       "    .dataframe tbody tr th {\n",
       "        vertical-align: top;\n",
       "    }\n",
       "\n",
       "    .dataframe thead th {\n",
       "        text-align: right;\n",
       "    }\n",
       "</style>\n",
       "<table border=\"1\" class=\"dataframe\">\n",
       "  <thead>\n",
       "    <tr style=\"text-align: right;\">\n",
       "      <th></th>\n",
       "      <th>image</th>\n",
       "      <th>predictions</th>\n",
       "      <th>img_path</th>\n",
       "    </tr>\n",
       "  </thead>\n",
       "  <tbody>\n",
       "    <tr>\n",
       "      <th>0</th>\n",
       "      <td>000110707af0ba.jpg</td>\n",
       "      <td>37c7aba965a5 114207cab555 a6e325d8e924 19fbb96...</td>\n",
       "      <td>../128x128/test_images-128-128/test_images-128...</td>\n",
       "    </tr>\n",
       "    <tr>\n",
       "      <th>1</th>\n",
       "      <td>0006287ec424cb.jpg</td>\n",
       "      <td>37c7aba965a5 114207cab555 a6e325d8e924 19fbb96...</td>\n",
       "      <td>../128x128/test_images-128-128/test_images-128...</td>\n",
       "    </tr>\n",
       "    <tr>\n",
       "      <th>2</th>\n",
       "      <td>000809ecb2ccad.jpg</td>\n",
       "      <td>37c7aba965a5 114207cab555 a6e325d8e924 19fbb96...</td>\n",
       "      <td>../128x128/test_images-128-128/test_images-128...</td>\n",
       "    </tr>\n",
       "    <tr>\n",
       "      <th>3</th>\n",
       "      <td>00098d1376dab2.jpg</td>\n",
       "      <td>37c7aba965a5 114207cab555 a6e325d8e924 19fbb96...</td>\n",
       "      <td>../128x128/test_images-128-128/test_images-128...</td>\n",
       "    </tr>\n",
       "    <tr>\n",
       "      <th>4</th>\n",
       "      <td>000b8d89c738bd.jpg</td>\n",
       "      <td>37c7aba965a5 114207cab555 a6e325d8e924 19fbb96...</td>\n",
       "      <td>../128x128/test_images-128-128/test_images-128...</td>\n",
       "    </tr>\n",
       "  </tbody>\n",
       "</table>\n",
       "</div>"
      ],
      "text/plain": [
       "                image                                        predictions  \\\n",
       "0  000110707af0ba.jpg  37c7aba965a5 114207cab555 a6e325d8e924 19fbb96...   \n",
       "1  0006287ec424cb.jpg  37c7aba965a5 114207cab555 a6e325d8e924 19fbb96...   \n",
       "2  000809ecb2ccad.jpg  37c7aba965a5 114207cab555 a6e325d8e924 19fbb96...   \n",
       "3  00098d1376dab2.jpg  37c7aba965a5 114207cab555 a6e325d8e924 19fbb96...   \n",
       "4  000b8d89c738bd.jpg  37c7aba965a5 114207cab555 a6e325d8e924 19fbb96...   \n",
       "\n",
       "                                            img_path  \n",
       "0  ../128x128/test_images-128-128/test_images-128...  \n",
       "1  ../128x128/test_images-128-128/test_images-128...  \n",
       "2  ../128x128/test_images-128-128/test_images-128...  \n",
       "3  ../128x128/test_images-128-128/test_images-128...  \n",
       "4  ../128x128/test_images-128-128/test_images-128...  "
      ]
     },
     "execution_count": 13,
     "metadata": {},
     "output_type": "execute_result"
    }
   ],
   "source": [
    "def source_path(row):\n",
    "    return f'{args.test_img_path}/{row.image}'\n",
    "\n",
    "test_df = pd.read_csv('../sample_submission.csv')\n",
    "test_df['img_path'] = test_df.apply(lambda row: source_path(row), axis=1)\n",
    "\n",
    "test_df.head()"
   ]
  },
  {
   "cell_type": "markdown",
   "id": "d09065f0-8c80-459a-b602-28a6cb842c98",
   "metadata": {},
   "source": [
    "# Get Train Embeddings"
   ]
  },
  {
   "cell_type": "code",
   "execution_count": 37,
   "id": "f98ac8df-9a41-4dce-891f-b5231ff08667",
   "metadata": {},
   "outputs": [
    {
     "name": "stderr",
     "output_type": "stream",
     "text": [
      "100% 5/5 [00:00<00:00, 12.81it/s]"
     ]
    },
    {
     "name": "stdout",
     "output_type": "stream",
     "text": [
      "(51033, 1280) (51033,)\n"
     ]
    },
    {
     "name": "stderr",
     "output_type": "stream",
     "text": [
      "\n"
     ]
    }
   ],
   "source": [
    "train_embeddings = []\n",
    "train_index = []\n",
    "\n",
    "for fold in tqdm(range(args.num_folds)):\n",
    "    data = np.load(f'{TRAIN_EMBED_PATH}/embedding_{fold}.npz', allow_pickle=True)\n",
    "    train_embeddings.extend(data['embedding'])\n",
    "    train_index.extend(data['index'])\n",
    "    \n",
    "train_embeddings = np.array(train_embeddings)\n",
    "train_index = np.array(train_index)\n",
    "\n",
    "print(train_embeddings.shape, train_index.shape)"
   ]
  },
  {
   "cell_type": "code",
   "execution_count": null,
   "id": "a39025c8-0282-4b74-a221-2f1b8dbc1464",
   "metadata": {},
   "outputs": [],
   "source": [
    "MODEL_PATH = f'{args.model_save_path}/{args.exp_id}'\n",
    "train_preds = []\n",
    "\n",
    "for fold in tqdm(range(args.num_folds)):\n",
    "    valid_df = train_df[train_df.fold == fold]\n",
    "    dataset = GetDataloader(args)\n",
    "    validloader = dataset.dataloader(valid_df, data_type='valid')\n",
    "    \n",
    "    model = tf.keras.models.load_model(f'{MODEL_PATH}/model_{fold}')\n",
    "    \n",
    "    preds = model.predict(validloader)\n",
    "    train_preds.extend(np.argmax(preds, axis=1))\n",
    "    \n",
    "train_preds = np.array(train_preds)"
   ]
  },
  {
   "cell_type": "code",
   "execution_count": 36,
   "id": "2fa3ea3b-8da8-4dcd-a0e6-78ad7496f9d1",
   "metadata": {},
   "outputs": [
    {
     "data": {
      "text/plain": [
       "array([    0,     1,     2, ..., 51030, 51031, 51032])"
      ]
     },
     "execution_count": 36,
     "metadata": {},
     "output_type": "execute_result"
    }
   ],
   "source": [
    "train_index"
   ]
  },
  {
   "cell_type": "code",
   "execution_count": 30,
   "id": "4f08f633-5792-4949-b5a3-5c13c6584de5",
   "metadata": {},
   "outputs": [],
   "source": [
    "inds = train_index.argsort()\n",
    "\n",
    "train_embeddings = train_embeddings[inds]\n",
    "train_preds = train_preds[inds]\n",
    "train_index = train_index[inds]"
   ]
  },
  {
   "cell_type": "code",
   "execution_count": 31,
   "id": "b8572d71-101b-4924-a35c-fcead4f39069",
   "metadata": {},
   "outputs": [],
   "source": [
    "train_df['preds'] = train_preds"
   ]
  },
  {
   "cell_type": "code",
   "execution_count": 35,
   "id": "48758cba-843a-46d1-99d5-cfc2f0c548e3",
   "metadata": {},
   "outputs": [
    {
     "data": {
      "text/html": [
       "<div>\n",
       "<style scoped>\n",
       "    .dataframe tbody tr th:only-of-type {\n",
       "        vertical-align: middle;\n",
       "    }\n",
       "\n",
       "    .dataframe tbody tr th {\n",
       "        vertical-align: top;\n",
       "    }\n",
       "\n",
       "    .dataframe thead th {\n",
       "        text-align: right;\n",
       "    }\n",
       "</style>\n",
       "<table border=\"1\" class=\"dataframe\">\n",
       "  <thead>\n",
       "    <tr style=\"text-align: right;\">\n",
       "      <th></th>\n",
       "      <th>image</th>\n",
       "      <th>species</th>\n",
       "      <th>individual_id</th>\n",
       "      <th>img_path</th>\n",
       "      <th>fold</th>\n",
       "      <th>target</th>\n",
       "      <th>preds</th>\n",
       "    </tr>\n",
       "  </thead>\n",
       "  <tbody>\n",
       "    <tr>\n",
       "      <th>0</th>\n",
       "      <td>00021adfb725ed.jpg</td>\n",
       "      <td>melon_headed_whale</td>\n",
       "      <td>cadddb1636b9</td>\n",
       "      <td>../128x128/train_images-128-128/train_images-1...</td>\n",
       "      <td>0</td>\n",
       "      <td>0</td>\n",
       "      <td>9439</td>\n",
       "    </tr>\n",
       "    <tr>\n",
       "      <th>1</th>\n",
       "      <td>000562241d384d.jpg</td>\n",
       "      <td>humpback_whale</td>\n",
       "      <td>1a71fbb72250</td>\n",
       "      <td>../128x128/train_images-128-128/train_images-1...</td>\n",
       "      <td>2</td>\n",
       "      <td>1</td>\n",
       "      <td>14673</td>\n",
       "    </tr>\n",
       "    <tr>\n",
       "      <th>2</th>\n",
       "      <td>0007c33415ce37.jpg</td>\n",
       "      <td>false_killer_whale</td>\n",
       "      <td>60008f293a2b</td>\n",
       "      <td>../128x128/train_images-128-128/train_images-1...</td>\n",
       "      <td>4</td>\n",
       "      <td>2</td>\n",
       "      <td>146</td>\n",
       "    </tr>\n",
       "    <tr>\n",
       "      <th>3</th>\n",
       "      <td>0007d9bca26a99.jpg</td>\n",
       "      <td>bottlenose_dolphin</td>\n",
       "      <td>4b00fe572063</td>\n",
       "      <td>../128x128/train_images-128-128/train_images-1...</td>\n",
       "      <td>4</td>\n",
       "      <td>3</td>\n",
       "      <td>587</td>\n",
       "    </tr>\n",
       "    <tr>\n",
       "      <th>4</th>\n",
       "      <td>00087baf5cef7a.jpg</td>\n",
       "      <td>humpback_whale</td>\n",
       "      <td>8e5253662392</td>\n",
       "      <td>../128x128/train_images-128-128/train_images-1...</td>\n",
       "      <td>1</td>\n",
       "      <td>4</td>\n",
       "      <td>437</td>\n",
       "    </tr>\n",
       "    <tr>\n",
       "      <th>...</th>\n",
       "      <td>...</td>\n",
       "      <td>...</td>\n",
       "      <td>...</td>\n",
       "      <td>...</td>\n",
       "      <td>...</td>\n",
       "      <td>...</td>\n",
       "      <td>...</td>\n",
       "    </tr>\n",
       "    <tr>\n",
       "      <th>51028</th>\n",
       "      <td>fff639a7a78b3f.jpg</td>\n",
       "      <td>beluga</td>\n",
       "      <td>5ac053677ed1</td>\n",
       "      <td>../128x128/train_images-128-128/train_images-1...</td>\n",
       "      <td>1</td>\n",
       "      <td>96</td>\n",
       "      <td>1952</td>\n",
       "    </tr>\n",
       "    <tr>\n",
       "      <th>51029</th>\n",
       "      <td>fff8b32daff17e.jpg</td>\n",
       "      <td>cuviers_beaked_whale</td>\n",
       "      <td>1184686361b3</td>\n",
       "      <td>../128x128/train_images-128-128/train_images-1...</td>\n",
       "      <td>0</td>\n",
       "      <td>1482</td>\n",
       "      <td>1167</td>\n",
       "    </tr>\n",
       "    <tr>\n",
       "      <th>51030</th>\n",
       "      <td>fff94675cc1aef.jpg</td>\n",
       "      <td>blue_whale</td>\n",
       "      <td>5401612696b9</td>\n",
       "      <td>../128x128/train_images-128-128/train_images-1...</td>\n",
       "      <td>0</td>\n",
       "      <td>8220</td>\n",
       "      <td>9840</td>\n",
       "    </tr>\n",
       "    <tr>\n",
       "      <th>51031</th>\n",
       "      <td>fffbc5dd642d8c.jpg</td>\n",
       "      <td>beluga</td>\n",
       "      <td>4000b3d7c24e</td>\n",
       "      <td>../128x128/train_images-128-128/train_images-1...</td>\n",
       "      <td>4</td>\n",
       "      <td>13202</td>\n",
       "      <td>528</td>\n",
       "    </tr>\n",
       "    <tr>\n",
       "      <th>51032</th>\n",
       "      <td>fffdcd42312777.jpg</td>\n",
       "      <td>bottlenose_dolphin</td>\n",
       "      <td>4ddb2eeb5efb</td>\n",
       "      <td>../128x128/train_images-128-128/train_images-1...</td>\n",
       "      <td>1</td>\n",
       "      <td>1700</td>\n",
       "      <td>998</td>\n",
       "    </tr>\n",
       "  </tbody>\n",
       "</table>\n",
       "<p>51033 rows × 7 columns</p>\n",
       "</div>"
      ],
      "text/plain": [
       "                    image               species individual_id  \\\n",
       "0      00021adfb725ed.jpg    melon_headed_whale  cadddb1636b9   \n",
       "1      000562241d384d.jpg        humpback_whale  1a71fbb72250   \n",
       "2      0007c33415ce37.jpg    false_killer_whale  60008f293a2b   \n",
       "3      0007d9bca26a99.jpg    bottlenose_dolphin  4b00fe572063   \n",
       "4      00087baf5cef7a.jpg        humpback_whale  8e5253662392   \n",
       "...                   ...                   ...           ...   \n",
       "51028  fff639a7a78b3f.jpg                beluga  5ac053677ed1   \n",
       "51029  fff8b32daff17e.jpg  cuviers_beaked_whale  1184686361b3   \n",
       "51030  fff94675cc1aef.jpg            blue_whale  5401612696b9   \n",
       "51031  fffbc5dd642d8c.jpg                beluga  4000b3d7c24e   \n",
       "51032  fffdcd42312777.jpg    bottlenose_dolphin  4ddb2eeb5efb   \n",
       "\n",
       "                                                img_path  fold  target  preds  \n",
       "0      ../128x128/train_images-128-128/train_images-1...     0       0   9439  \n",
       "1      ../128x128/train_images-128-128/train_images-1...     2       1  14673  \n",
       "2      ../128x128/train_images-128-128/train_images-1...     4       2    146  \n",
       "3      ../128x128/train_images-128-128/train_images-1...     4       3    587  \n",
       "4      ../128x128/train_images-128-128/train_images-1...     1       4    437  \n",
       "...                                                  ...   ...     ...    ...  \n",
       "51028  ../128x128/train_images-128-128/train_images-1...     1      96   1952  \n",
       "51029  ../128x128/train_images-128-128/train_images-1...     0    1482   1167  \n",
       "51030  ../128x128/train_images-128-128/train_images-1...     0    8220   9840  \n",
       "51031  ../128x128/train_images-128-128/train_images-1...     4   13202    528  \n",
       "51032  ../128x128/train_images-128-128/train_images-1...     1    1700    998  \n",
       "\n",
       "[51033 rows x 7 columns]"
      ]
     },
     "execution_count": 35,
     "metadata": {},
     "output_type": "execute_result"
    }
   ],
   "source": [
    "train_df"
   ]
  },
  {
   "cell_type": "code",
   "execution_count": 13,
   "id": "1b4e827e-60e5-4cc7-ae82-bf02b82b5cb2",
   "metadata": {},
   "outputs": [
    {
     "name": "stderr",
     "output_type": "stream",
     "text": [
      "100% 5/5 [00:34<00:00,  6.95s/it]\n"
     ]
    }
   ],
   "source": [
    "# MODEL_PATH = f'{args.model_save_path}/{args.exp_id}'\n",
    "# train_embeddings = []\n",
    "\n",
    "# for fold in tqdm(range(args.num_folds)):\n",
    "#     valid_df = train_df[train_df.fold == fold]\n",
    "#     dataset = GetDataloader(args)\n",
    "#     validloader = dataset.dataloader(valid_df, data_type='valid')\n",
    "    \n",
    "#     model = tf.keras.models.load_model(f'{MODEL_PATH}/model_{fold}.h5')\n",
    "#     feature_extractor = get_feature_extractor(model)\n",
    "\n",
    "#     embeddings = feature_extractor.predict(validloader)\n",
    "#     train_embeddings.extend(embeddings)\n",
    "    \n",
    "# train_embeddings = np.array(train_embeddings)"
   ]
  },
  {
   "cell_type": "markdown",
   "id": "86cd1dcd-2c39-4963-b2a0-2766abb2bb6d",
   "metadata": {},
   "source": [
    "# Learn Nearest Neighbors - Unsupervised"
   ]
  },
  {
   "cell_type": "code",
   "execution_count": 52,
   "id": "ef7ed3f3-4ff6-4237-b89b-e343aa45f2d9",
   "metadata": {},
   "outputs": [
    {
     "data": {
      "text/plain": [
       "NearestNeighbors(metric='cosine', n_neighbors=6)"
      ]
     },
     "execution_count": 52,
     "metadata": {},
     "output_type": "execute_result"
    }
   ],
   "source": [
    "from sklearn.neighbors import NearestNeighbors\n",
    "neigh = NearestNeighbors(n_neighbors=6, metric='cosine')\n",
    "neigh.fit(train_embeddings)"
   ]
  },
  {
   "cell_type": "markdown",
   "id": "c511a62c-3f17-4a04-a4e8-b0b7407a278c",
   "metadata": {},
   "source": [
    "# Get Test Embeddings"
   ]
  },
  {
   "cell_type": "code",
   "execution_count": 18,
   "id": "6bb728e4-0f62-4cbc-80f9-1641008e629b",
   "metadata": {},
   "outputs": [],
   "source": [
    "dataset = GetDataloader(args)\n",
    "testloader = dataset.dataloader(test_df, data_type='test')"
   ]
  },
  {
   "cell_type": "code",
   "execution_count": 19,
   "id": "16d13763-ba7b-4d31-a187-a2501982a643",
   "metadata": {},
   "outputs": [
    {
     "name": "stderr",
     "output_type": "stream",
     "text": [
      "100% 5/5 [02:00<00:00, 24.03s/it]\n"
     ]
    },
    {
     "name": "stdout",
     "output_type": "stream",
     "text": [
      "(27956, 1280)\n"
     ]
    }
   ],
   "source": [
    "test_embeddings = []\n",
    "\n",
    "for fold in tqdm(range(args.num_folds)):\n",
    "    model = tf.keras.models.load_model(f'{MODEL_PATH}/model_{fold}')\n",
    "    feature_extractor = get_feature_extractor(model)\n",
    "\n",
    "    embeddings = feature_extractor.predict(testloader)\n",
    "\n",
    "    test_embeddings.append(embeddings)\n",
    "    \n",
    "test_embeddings = np.array(test_embeddings)\n",
    "test_embeddings = np.mean(test_embeddings, axis=0)\n",
    "print(test_embeddings.shape)"
   ]
  },
  {
   "cell_type": "markdown",
   "id": "9343cdff-6f0d-49e1-a83c-bf2ed120b9aa",
   "metadata": {},
   "source": [
    "# Find the Nearest Ids"
   ]
  },
  {
   "cell_type": "code",
   "execution_count": 68,
   "id": "4b90bae0-94a5-4731-9143-f8fe973a8343",
   "metadata": {},
   "outputs": [],
   "source": [
    "sub_df = test_df[['image', 'predictions']]"
   ]
  },
  {
   "cell_type": "code",
   "execution_count": 70,
   "id": "248a495d-13aa-4710-b91a-2451a548fc72",
   "metadata": {},
   "outputs": [],
   "source": [
    "dist, idxs = neigh.kneighbors(test_embeddings, n_neighbors=6)"
   ]
  },
  {
   "cell_type": "code",
   "execution_count": 71,
   "id": "b37d4424-3dc2-4d9b-9059-8e778908fb67",
   "metadata": {},
   "outputs": [
    {
     "name": "stderr",
     "output_type": "stream",
     "text": [
      "100% 27956/27956 [00:14<00:00, 1969.97it/s]\n"
     ]
    }
   ],
   "source": [
    "for i in tqdm(range(len(sub_df))):\n",
    "    individual_ids = train_df.loc[idxs[i].flatten().tolist()[:5]].individual_id.values\n",
    "    individual_ids = ' '.join(individual_ids)\n",
    "    sub_df.loc[i, 'predictions'] = individual_ids"
   ]
  },
  {
   "cell_type": "code",
   "execution_count": 72,
   "id": "487aa97d-ed00-49e4-a32c-26256bbcbd1a",
   "metadata": {},
   "outputs": [],
   "source": [
    "SUBMISSION_DIR = f'../submissions/{args.exp_id}'\n",
    "os.makedirs(SUBMISSION_DIR, exist_ok=True)\n",
    "sub_df.to_csv(f'{SUBMISSION_DIR}/submission.csv', index=False)"
   ]
  },
  {
   "cell_type": "markdown",
   "id": "2ac67483-96e3-4dff-b28d-38e0c6c5d854",
   "metadata": {},
   "source": [
    "# Log LB Score"
   ]
  },
  {
   "cell_type": "code",
   "execution_count": 29,
   "id": "564c9c2c-1ac7-4302-994e-56c3dc2b9433",
   "metadata": {},
   "outputs": [
    {
     "data": {
      "text/html": [
       "\n",
       "                    Syncing run <strong><a href=\"https://wandb.ai/ayut/happywhale/runs/3fwfhon0\" target=\"_blank\">46EZHKMK-infer</a></strong> to <a href=\"https://wandb.ai/ayut/happywhale\" target=\"_blank\">Weights & Biases</a> (<a href=\"https://docs.wandb.com/integrations/jupyter.html\" target=\"_blank\">docs</a>).<br/>\n",
       "\n",
       "                "
      ],
      "text/plain": [
       "<IPython.core.display.HTML object>"
      ]
     },
     "metadata": {},
     "output_type": "display_data"
    },
    {
     "data": {
      "text/html": [
       "<br/>Waiting for W&B process to finish, PID 1063... <strong style=\"color:green\">(success).</strong>"
      ],
      "text/plain": [
       "<IPython.core.display.HTML object>"
      ]
     },
     "metadata": {},
     "output_type": "display_data"
    },
    {
     "data": {
      "application/vnd.jupyter.widget-view+json": {
       "model_id": "d11bfa4ac4c642ed9c6401ec9f475806",
       "version_major": 2,
       "version_minor": 0
      },
      "text/plain": [
       "VBox(children=(Label(value=' 0.00MB of 0.00MB uploaded (0.00MB deduped)\\r'), FloatProgress(value=1.0, max=1.0)…"
      ]
     },
     "metadata": {},
     "output_type": "display_data"
    },
    {
     "data": {
      "text/html": [
       "<style>\n",
       "    table.wandb td:nth-child(1) { padding: 0 10px; text-align: right }\n",
       "    .wandb-row { display: flex; flex-direction: row; flex-wrap: wrap; width: 100% }\n",
       "    .wandb-col { display: flex; flex-direction: column; flex-basis: 100%; flex: 1; padding: 10px; }\n",
       "    </style>\n",
       "<div class=\"wandb-row\"><div class=\"wandb-col\">\n",
       "<h3>Run history:</h3><br/><table class=\"wandb\"><tr><td>LB Score</td><td>▁</td></tr></table><br/></div><div class=\"wandb-col\">\n",
       "<h3>Run summary:</h3><br/><table class=\"wandb\"><tr><td>LB Score</td><td>0.038</td></tr></table>\n",
       "</div></div>\n",
       "Synced 4 W&B file(s), 0 media file(s), 0 artifact file(s) and 0 other file(s)\n",
       "<br/>Synced <strong style=\"color:#cdcd00\">46EZHKMK-infer</strong>: <a href=\"https://wandb.ai/ayut/happywhale/runs/3fwfhon0\" target=\"_blank\">https://wandb.ai/ayut/happywhale/runs/3fwfhon0</a><br/>\n",
       "Find logs at: <code>./wandb/run-20220210_085030-3fwfhon0/logs</code><br/>\n"
      ],
      "text/plain": [
       "<IPython.core.display.HTML object>"
      ]
     },
     "metadata": {},
     "output_type": "display_data"
    }
   ],
   "source": [
    "run = wandb.init(project='happywhale',\n",
    "                 config=vars(args),\n",
    "                 group=f'effnetb0',\n",
    "                 job_type='inference',\n",
    "                 name=f'{args.exp_id}-infer')\n",
    "\n",
    "wandb.log({'LB Score': 0.038})\n",
    "wandb.finish()"
   ]
  },
  {
   "cell_type": "code",
   "execution_count": null,
   "id": "4bbc7653-5a10-4ad0-8e84-f36483dd5d6f",
   "metadata": {},
   "outputs": [],
   "source": []
  }
 ],
 "metadata": {
  "kernelspec": {
   "display_name": "Python 3 (ipykernel)",
   "language": "python",
   "name": "python3"
  },
  "language_info": {
   "codemirror_mode": {
    "name": "ipython",
    "version": 3
   },
   "file_extension": ".py",
   "mimetype": "text/x-python",
   "name": "python",
   "nbconvert_exporter": "python",
   "pygments_lexer": "ipython3",
   "version": "3.7.12"
  }
 },
 "nbformat": 4,
 "nbformat_minor": 5
}
