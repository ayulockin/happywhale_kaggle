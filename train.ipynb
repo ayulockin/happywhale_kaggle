{
 "cells": [
  {
   "cell_type": "code",
   "execution_count": 1,
   "id": "b2ca1f2c-0027-425f-9471-5b5a7e1c64d8",
   "metadata": {},
   "outputs": [],
   "source": [
    "%load_ext autoreload\n",
    "%autoreload 2"
   ]
  },
  {
   "cell_type": "markdown",
   "id": "4847cacd",
   "metadata": {},
   "source": [
    "# Import and Setup"
   ]
  },
  {
   "cell_type": "code",
   "execution_count": 2,
   "id": "521d590e",
   "metadata": {},
   "outputs": [],
   "source": [
    "import os\n",
    "os.environ['TF_CPP_MIN_LOG_LEVEL'] = '3'\n",
    "\n",
    "import gc\n",
    "import string\n",
    "import random\n",
    "import numpy as np\n",
    "import pandas as pd\n",
    "from functools import partial\n",
    "from argparse import Namespace\n",
    "import matplotlib.pyplot as plt\n",
    "\n",
    "import tensorflow as tf\n",
    "from tensorflow.keras.layers import *\n",
    "from tensorflow.keras.models import *\n",
    "\n",
    "\n",
    "import wandb\n",
    "from wandb.keras import WandbCallback\n",
    "\n",
    "from model import GetModel, get_feature_extractor\n",
    "from config import get_config\n",
    "from data import GetDataloader\n",
    "from utils import ShowBatch\n",
    "from callbacks import GetCallbacks"
   ]
  },
  {
   "cell_type": "code",
   "execution_count": 3,
   "id": "6e29bec0-a28b-40be-93ab-0215aec0cc25",
   "metadata": {},
   "outputs": [
    {
     "name": "stdout",
     "output_type": "stream",
     "text": [
      "Namespace(batch_size=256, early_patience=6, embedding_save_path='../embeddings', epochs=1, image_height=128, image_width=128, labels={'melon_headed_whale': 0, 'humpback_whale': 1, 'false_killer_whale': 2, 'bottlenose_dolphin': 3, 'beluga': 4, 'minke_whale': 5, 'fin_whale': 6, 'blue_whale': 7, 'gray_whale': 8, 'southern_right_whale': 9, 'common_dolphin': 10, 'killer_whale': 11, 'short_finned_pilot_whale': 12, 'dusky_dolphin': 13, 'long_finned_pilot_whale': 14, 'sei_whale': 15, 'spinner_dolphin': 16, 'cuviers_beaked_whale': 17, 'spotted_dolphin': 18, 'brydes_whale': 19, 'commersons_dolphin': 20, 'white_sided_dolphin': 21, 'rough_toothed_dolphin': 22, 'pantropic_spotted_dolphin': 23, 'pygmy_killer_whale': 24, 'frasiers_dolphin': 25}, model_save_path='../models', num_folds=5, num_labels=26, resize=False, rlrp_factor=0.2, rlrp_patience=3, train_img_path='../128x128/train_images-128-128/train_images-128-128')\n"
     ]
    }
   ],
   "source": [
    "args = get_config()\n",
    "DEBUG = False\n",
    "\n",
    "print(args)"
   ]
  },
  {
   "cell_type": "code",
   "execution_count": 5,
   "id": "7169a841-92c2-4413-b1bd-9a04d04e11e3",
   "metadata": {},
   "outputs": [
    {
     "name": "stdout",
     "output_type": "stream",
     "text": [
      "AGBSEVK8\n"
     ]
    }
   ],
   "source": [
    "def id_generator(size=6, chars=string.ascii_uppercase + string.digits):\n",
    "    return ''.join(random.choice(chars) for _ in range(size))\n",
    "\n",
    "random_id = id_generator(size=8)\n",
    "print(random_id)\n",
    "args.exp_id = random_id"
   ]
  },
  {
   "cell_type": "markdown",
   "id": "0cd34cdd",
   "metadata": {},
   "source": [
    "# Prepare Dataset"
   ]
  },
  {
   "cell_type": "code",
   "execution_count": 6,
   "id": "7356d565",
   "metadata": {},
   "outputs": [
    {
     "name": "stdout",
     "output_type": "stream",
     "text": [
      "Num Labels: 26\n"
     ]
    },
    {
     "data": {
      "text/html": [
       "<div>\n",
       "<style scoped>\n",
       "    .dataframe tbody tr th:only-of-type {\n",
       "        vertical-align: middle;\n",
       "    }\n",
       "\n",
       "    .dataframe tbody tr th {\n",
       "        vertical-align: top;\n",
       "    }\n",
       "\n",
       "    .dataframe thead th {\n",
       "        text-align: right;\n",
       "    }\n",
       "</style>\n",
       "<table border=\"1\" class=\"dataframe\">\n",
       "  <thead>\n",
       "    <tr style=\"text-align: right;\">\n",
       "      <th></th>\n",
       "      <th>image</th>\n",
       "      <th>species</th>\n",
       "      <th>individual_id</th>\n",
       "      <th>img_path</th>\n",
       "      <th>target</th>\n",
       "      <th>fold</th>\n",
       "    </tr>\n",
       "  </thead>\n",
       "  <tbody>\n",
       "    <tr>\n",
       "      <th>0</th>\n",
       "      <td>00021adfb725ed.jpg</td>\n",
       "      <td>melon_headed_whale</td>\n",
       "      <td>cadddb1636b9</td>\n",
       "      <td>../128x128/train_images-128-128/train_images-1...</td>\n",
       "      <td>0</td>\n",
       "      <td>2.0</td>\n",
       "    </tr>\n",
       "    <tr>\n",
       "      <th>1</th>\n",
       "      <td>000562241d384d.jpg</td>\n",
       "      <td>humpback_whale</td>\n",
       "      <td>1a71fbb72250</td>\n",
       "      <td>../128x128/train_images-128-128/train_images-1...</td>\n",
       "      <td>1</td>\n",
       "      <td>3.0</td>\n",
       "    </tr>\n",
       "    <tr>\n",
       "      <th>2</th>\n",
       "      <td>0007c33415ce37.jpg</td>\n",
       "      <td>false_killer_whale</td>\n",
       "      <td>60008f293a2b</td>\n",
       "      <td>../128x128/train_images-128-128/train_images-1...</td>\n",
       "      <td>2</td>\n",
       "      <td>2.0</td>\n",
       "    </tr>\n",
       "    <tr>\n",
       "      <th>3</th>\n",
       "      <td>0007d9bca26a99.jpg</td>\n",
       "      <td>bottlenose_dolphin</td>\n",
       "      <td>4b00fe572063</td>\n",
       "      <td>../128x128/train_images-128-128/train_images-1...</td>\n",
       "      <td>3</td>\n",
       "      <td>2.0</td>\n",
       "    </tr>\n",
       "    <tr>\n",
       "      <th>4</th>\n",
       "      <td>00087baf5cef7a.jpg</td>\n",
       "      <td>humpback_whale</td>\n",
       "      <td>8e5253662392</td>\n",
       "      <td>../128x128/train_images-128-128/train_images-1...</td>\n",
       "      <td>1</td>\n",
       "      <td>4.0</td>\n",
       "    </tr>\n",
       "  </tbody>\n",
       "</table>\n",
       "</div>"
      ],
      "text/plain": [
       "                image             species individual_id  \\\n",
       "0  00021adfb725ed.jpg  melon_headed_whale  cadddb1636b9   \n",
       "1  000562241d384d.jpg      humpback_whale  1a71fbb72250   \n",
       "2  0007c33415ce37.jpg  false_killer_whale  60008f293a2b   \n",
       "3  0007d9bca26a99.jpg  bottlenose_dolphin  4b00fe572063   \n",
       "4  00087baf5cef7a.jpg      humpback_whale  8e5253662392   \n",
       "\n",
       "                                            img_path  target  fold  \n",
       "0  ../128x128/train_images-128-128/train_images-1...       0   2.0  \n",
       "1  ../128x128/train_images-128-128/train_images-1...       1   3.0  \n",
       "2  ../128x128/train_images-128-128/train_images-1...       2   2.0  \n",
       "3  ../128x128/train_images-128-128/train_images-1...       3   2.0  \n",
       "4  ../128x128/train_images-128-128/train_images-1...       1   4.0  "
      ]
     },
     "execution_count": 6,
     "metadata": {},
     "output_type": "execute_result"
    }
   ],
   "source": [
    "df = pd.read_csv('../cleaned_5_fold_train.csv')\n",
    "print('Num Labels:', args.num_labels)\n",
    "df.head()"
   ]
  },
  {
   "cell_type": "markdown",
   "id": "f1baab6e",
   "metadata": {},
   "source": [
    "# Dataloader"
   ]
  },
  {
   "cell_type": "code",
   "execution_count": 7,
   "id": "d1d75a7b",
   "metadata": {},
   "outputs": [],
   "source": [
    "# Sanity check\n",
    "if DEBUG:\n",
    "    # Get Split\n",
    "    train_df = df[df.fold != 0]\n",
    "    valid_df = df[df.fold == 0]\n",
    "\n",
    "    # Get train and validation loaders\n",
    "    dataset = GetDataloader(args)\n",
    "    trainloader = dataset.dataloader(train_df)\n",
    "    validloader = dataset.dataloader(valid_df)\n",
    "\n",
    "    # Display a batch\n",
    "    sample_imgs, sample_labels = next(iter(trainloader))\n",
    "\n",
    "    show_batch = ShowBatch(args)\n",
    "    show_batch.show_batch(sample_imgs, sample_labels)"
   ]
  },
  {
   "cell_type": "markdown",
   "id": "d16b6305",
   "metadata": {},
   "source": [
    "# Model"
   ]
  },
  {
   "cell_type": "code",
   "execution_count": 8,
   "id": "b9b39728",
   "metadata": {},
   "outputs": [],
   "source": [
    "if DEBUG:\n",
    "    tf.keras.backend.clear_session()\n",
    "    get_model = GetModel(args)\n",
    "    model = get_model.get_efficientnet()\n",
    "    model.summary()"
   ]
  },
  {
   "cell_type": "markdown",
   "id": "20adc528",
   "metadata": {},
   "source": [
    "# Callbacks"
   ]
  },
  {
   "cell_type": "code",
   "execution_count": 9,
   "id": "469dc68a-0f3f-4c52-af75-c39924032f66",
   "metadata": {},
   "outputs": [],
   "source": [
    "callbacks = GetCallbacks(args)"
   ]
  },
  {
   "cell_type": "markdown",
   "id": "c0b2cc61",
   "metadata": {},
   "source": [
    "# Train"
   ]
  },
  {
   "cell_type": "code",
   "execution_count": 10,
   "id": "99725906",
   "metadata": {},
   "outputs": [],
   "source": [
    "for fold in range(args.num_folds):\n",
    "    # Get dataloaders\n",
    "    train_df = df[df.fold != fold]\n",
    "    valid_df = df[df.fold == fold]\n",
    "\n",
    "    dataset = GetDataloader(args)\n",
    "    trainloader = dataset.dataloader(train_df)\n",
    "    validloader = dataset.dataloader(valid_df)\n",
    "    \n",
    "    # Initialize model\n",
    "    tf.keras.backend.clear_session()\n",
    "    model = GetModel(args)\n",
    "    model = model.get_efficientnet()\n",
    "\n",
    "    # Compile model\n",
    "    model.compile('adam',\n",
    "                  loss='categorical_crossentropy',\n",
    "                  metrics=['acc',\n",
    "                           tf.keras.metrics.TopKCategoricalAccuracy(1, name='top@1_acc'),\n",
    "                           tf.keras.metrics.TopKCategoricalAccuracy(5, name='top@5_acc')])\n",
    "\n",
    "    # Initialize W&B run\n",
    "    run = wandb.init(project='happywhale', config=vars(args), group='effnetb0-new', job_type='train')\n",
    "\n",
    "    # Train\n",
    "    model.fit(trainloader, \n",
    "              epochs=args.epochs,\n",
    "              validation_data=validloader,\n",
    "              callbacks=[WandbCallback(save_model=False),\n",
    "                         callbacks.get_reduce_lr_on_plateau()])\n",
    "    \n",
    "    # Save the model\n",
    "    os.makedirs(f'{args.model_save_path}/{args.exp_id}', exist_ok=True)\n",
    "    model.save(f'{args.model_save_path}/{args.exp_id}/model_{fold}.h5')\n",
    "    \n",
    "    # Load the model\n",
    "    model = tf.keras.models.load_model(f'{args.model_save_path}/{args.exp_id}/model_{fold}.h5')\n",
    "    \n",
    "    # Evaluate\n",
    "    preds = model.predict(validloader)\n",
    "    df.loc[list(df[df.fold == fold].index), 'preds'] = np.argmax(preds, axis=1)\n",
    "    \n",
    "    # Get Embedding\n",
    "    feature_extractor = get_feature_extractor(model)\n",
    "    embedding = feature_extractor.predict(validloader)\n",
    "\n",
    "    os.makedirs(f'{args.embedding_save_path}/{args.exp_id}', exist_ok=True)\n",
    "    np.savez(f'{args.embedding_save_path}/{args.exp_id}/embedding_{fold}.npz', \n",
    "             embedding=embedding, \n",
    "             individual_id=valid_df.individual_id.values)\n",
    "    \n",
    "    del trainloader, validloader, model, feature_extractor, embedding\n",
    "    _ = gc.collect()\n",
    "\n",
    "    # Close W&B run\n",
    "    run.finish()\n",
    "    \n",
    "df[['image', 'individual_id', 'target', 'preds']].to_csv('../oof.csv', index=False)"
   ]
  },
  {
   "cell_type": "markdown",
   "id": "1765e211-08a3-4541-838c-721089678c0e",
   "metadata": {},
   "source": [
    "# Save Model as Artifacts"
   ]
  },
  {
   "cell_type": "code",
   "execution_count": 2,
   "id": "2c44b66e-fff9-417b-8e84-5337b9e26d75",
   "metadata": {},
   "outputs": [
    {
     "name": "stderr",
     "output_type": "stream",
     "text": [
      "\u001b[34m\u001b[1mwandb\u001b[0m: You can find your API key in your browser here: https://wandb.ai/authorize\n"
     ]
    },
    {
     "name": "stdin",
     "output_type": "stream",
     "text": [
      "\u001b[34m\u001b[1mwandb\u001b[0m: Paste an API key from your profile and hit enter, or press ctrl+c to quit:  ········································\n"
     ]
    },
    {
     "name": "stderr",
     "output_type": "stream",
     "text": [
      "\u001b[34m\u001b[1mwandb\u001b[0m: Appending key for api.wandb.ai to your netrc file: /root/.netrc\n",
      "\u001b[34m\u001b[1mwandb\u001b[0m: wandb version 0.12.10 is available!  To upgrade, please run:\n",
      "\u001b[34m\u001b[1mwandb\u001b[0m:  $ pip install wandb --upgrade\n"
     ]
    },
    {
     "data": {
      "text/html": [
       "\n",
       "                    Syncing run <strong><a href=\"https://wandb.ai/ayut/happywhale/runs/k4iaxb8z\" target=\"_blank\">breezy-dawn-14</a></strong> to <a href=\"https://wandb.ai/ayut/happywhale\" target=\"_blank\">Weights & Biases</a> (<a href=\"https://docs.wandb.com/integrations/jupyter.html\" target=\"_blank\">docs</a>).<br/>\n",
       "\n",
       "                "
      ],
      "text/plain": [
       "<IPython.core.display.HTML object>"
      ]
     },
     "metadata": {},
     "output_type": "display_data"
    },
    {
     "name": "stderr",
     "output_type": "stream",
     "text": [
      "\u001b[34m\u001b[1mwandb\u001b[0m: Adding directory to artifact (./models)... Done. 3.7s\n"
     ]
    },
    {
     "data": {
      "text/html": [
       "<br/>Waiting for W&B process to finish, PID 443... <strong style=\"color:green\">(success).</strong>"
      ],
      "text/plain": [
       "<IPython.core.display.HTML object>"
      ]
     },
     "metadata": {},
     "output_type": "display_data"
    },
    {
     "data": {
      "application/vnd.jupyter.widget-view+json": {
       "model_id": "1dd18a0541514fc7b75bd3479446eb2c",
       "version_major": 2,
       "version_minor": 0
      },
      "text/plain": [
       "VBox(children=(Label(value=' 236.57MB of 236.57MB uploaded (0.00MB deduped)\\r'), FloatProgress(value=1.0, max=…"
      ]
     },
     "metadata": {},
     "output_type": "display_data"
    },
    {
     "data": {
      "text/html": [
       "<style>\n",
       "    table.wandb td:nth-child(1) { padding: 0 10px; text-align: right }\n",
       "    .wandb-row { display: flex; flex-direction: row; flex-wrap: wrap; width: 100% }\n",
       "    .wandb-col { display: flex; flex-direction: column; flex-basis: 100%; flex: 1; padding: 10px; }\n",
       "    </style>\n",
       "<div class=\"wandb-row\"><div class=\"wandb-col\">\n",
       "</div><div class=\"wandb-col\">\n",
       "</div></div>\n",
       "Synced 5 W&B file(s), 0 media file(s), 5 artifact file(s) and 0 other file(s)\n",
       "<br/>Synced <strong style=\"color:#cdcd00\">breezy-dawn-14</strong>: <a href=\"https://wandb.ai/ayut/happywhale/runs/k4iaxb8z\" target=\"_blank\">https://wandb.ai/ayut/happywhale/runs/k4iaxb8z</a><br/>\n",
       "Find logs at: <code>./wandb/run-20220203_152718-k4iaxb8z/logs</code><br/>\n"
      ],
      "text/plain": [
       "<IPython.core.display.HTML object>"
      ]
     },
     "metadata": {},
     "output_type": "display_data"
    }
   ],
   "source": [
    "# Initialize W&B run\n",
    "run = wandb.init(project='happywhale', group='effnetb0', job_type='log_model')\n",
    "model_artifact = wandb.Artifact('EfficientNetB0', type='supervised')\n",
    "model_artifact.add_dir('models')\n",
    "run.log_artifact(model_artifact)\n",
    "wandb.finish()"
   ]
  },
  {
   "cell_type": "code",
   "execution_count": null,
   "id": "9b800e7a-5901-456f-ad38-21da3dca2c7f",
   "metadata": {},
   "outputs": [],
   "source": []
  }
 ],
 "metadata": {
  "environment": {
   "name": "tf2-gpu.2-5.m73",
   "type": "gcloud",
   "uri": "gcr.io/deeplearning-platform-release/tf2-gpu.2-5:m73"
  },
  "kernelspec": {
   "display_name": "Python 3 (ipykernel)",
   "language": "python",
   "name": "python3"
  },
  "language_info": {
   "codemirror_mode": {
    "name": "ipython",
    "version": 3
   },
   "file_extension": ".py",
   "mimetype": "text/x-python",
   "name": "python",
   "nbconvert_exporter": "python",
   "pygments_lexer": "ipython3",
   "version": "3.7.12"
  }
 },
 "nbformat": 4,
 "nbformat_minor": 5
}
