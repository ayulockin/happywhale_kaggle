{
 "cells": [
  {
   "cell_type": "code",
   "execution_count": 1,
   "id": "b2ca1f2c-0027-425f-9471-5b5a7e1c64d8",
   "metadata": {},
   "outputs": [],
   "source": [
    "%load_ext autoreload\n",
    "%autoreload 2"
   ]
  },
  {
   "cell_type": "markdown",
   "id": "4847cacd",
   "metadata": {},
   "source": [
    "# Import and Setup"
   ]
  },
  {
   "cell_type": "code",
   "execution_count": 2,
   "id": "521d590e",
   "metadata": {},
   "outputs": [],
   "source": [
    "import os\n",
    "os.environ['TF_CPP_MIN_LOG_LEVEL'] = '3'\n",
    "\n",
    "import gc\n",
    "import json\n",
    "import pprint\n",
    "import numpy as np\n",
    "import pandas as pd\n",
    "from tqdm import tqdm\n",
    "from functools import partial\n",
    "from argparse import Namespace\n",
    "import matplotlib.pyplot as plt\n",
    "\n",
    "import tensorflow as tf\n",
    "from tensorflow.keras.layers import *\n",
    "from tensorflow.keras.models import *\n",
    "\n",
    "\n",
    "import wandb\n",
    "from wandb.keras import WandbCallback\n",
    "\n",
    "from model import SimpleSupervisedModel, ArcFaceSupervisedModel, get_feature_extractor\n",
    "from config import get_train_config\n",
    "from data import GetDataloader\n",
    "from utils import ShowBatch, id_generator, get_stratified_k_fold\n",
    "from callbacks import GetCallbacks\n",
    "\n",
    "pp = pprint.PrettyPrinter(indent=1)"
   ]
  },
  {
   "cell_type": "code",
   "execution_count": 3,
   "id": "6e29bec0-a28b-40be-93ab-0215aec0cc25",
   "metadata": {},
   "outputs": [],
   "source": [
    "args = get_train_config()\n",
    "\n",
    "random_id = id_generator(size=8)\n",
    "args.exp_id = '23005S4V'"
   ]
  },
  {
   "cell_type": "code",
   "execution_count": 4,
   "id": "6d587d3b-0e72-4361-8ac4-01b787aaa69b",
   "metadata": {},
   "outputs": [],
   "source": [
    "DEBUG = False"
   ]
  },
  {
   "cell_type": "markdown",
   "id": "0cd34cdd",
   "metadata": {},
   "source": [
    "# Prepare Dataset"
   ]
  },
  {
   "cell_type": "code",
   "execution_count": 158,
   "id": "7356d565",
   "metadata": {},
   "outputs": [
    {
     "data": {
      "text/html": [
       "<div>\n",
       "<style scoped>\n",
       "    .dataframe tbody tr th:only-of-type {\n",
       "        vertical-align: middle;\n",
       "    }\n",
       "\n",
       "    .dataframe tbody tr th {\n",
       "        vertical-align: top;\n",
       "    }\n",
       "\n",
       "    .dataframe thead th {\n",
       "        text-align: right;\n",
       "    }\n",
       "</style>\n",
       "<table border=\"1\" class=\"dataframe\">\n",
       "  <thead>\n",
       "    <tr style=\"text-align: right;\">\n",
       "      <th></th>\n",
       "      <th>image</th>\n",
       "      <th>species</th>\n",
       "      <th>individual_id</th>\n",
       "      <th>img_path</th>\n",
       "      <th>fold</th>\n",
       "      <th>target</th>\n",
       "    </tr>\n",
       "  </thead>\n",
       "  <tbody>\n",
       "    <tr>\n",
       "      <th>0</th>\n",
       "      <td>00021adfb725ed.jpg</td>\n",
       "      <td>melon_headed_whale</td>\n",
       "      <td>cadddb1636b9</td>\n",
       "      <td>../128x128/train_images-128-128/train_images-1...</td>\n",
       "      <td>0</td>\n",
       "      <td>0</td>\n",
       "    </tr>\n",
       "    <tr>\n",
       "      <th>1</th>\n",
       "      <td>000562241d384d.jpg</td>\n",
       "      <td>humpback_whale</td>\n",
       "      <td>1a71fbb72250</td>\n",
       "      <td>../128x128/train_images-128-128/train_images-1...</td>\n",
       "      <td>2</td>\n",
       "      <td>1</td>\n",
       "    </tr>\n",
       "    <tr>\n",
       "      <th>2</th>\n",
       "      <td>0007c33415ce37.jpg</td>\n",
       "      <td>false_killer_whale</td>\n",
       "      <td>60008f293a2b</td>\n",
       "      <td>../128x128/train_images-128-128/train_images-1...</td>\n",
       "      <td>4</td>\n",
       "      <td>2</td>\n",
       "    </tr>\n",
       "    <tr>\n",
       "      <th>3</th>\n",
       "      <td>0007d9bca26a99.jpg</td>\n",
       "      <td>bottlenose_dolphin</td>\n",
       "      <td>4b00fe572063</td>\n",
       "      <td>../128x128/train_images-128-128/train_images-1...</td>\n",
       "      <td>4</td>\n",
       "      <td>3</td>\n",
       "    </tr>\n",
       "    <tr>\n",
       "      <th>4</th>\n",
       "      <td>00087baf5cef7a.jpg</td>\n",
       "      <td>humpback_whale</td>\n",
       "      <td>8e5253662392</td>\n",
       "      <td>../128x128/train_images-128-128/train_images-1...</td>\n",
       "      <td>1</td>\n",
       "      <td>4</td>\n",
       "    </tr>\n",
       "  </tbody>\n",
       "</table>\n",
       "</div>"
      ],
      "text/plain": [
       "                image             species individual_id  \\\n",
       "0  00021adfb725ed.jpg  melon_headed_whale  cadddb1636b9   \n",
       "1  000562241d384d.jpg      humpback_whale  1a71fbb72250   \n",
       "2  0007c33415ce37.jpg  false_killer_whale  60008f293a2b   \n",
       "3  0007d9bca26a99.jpg  bottlenose_dolphin  4b00fe572063   \n",
       "4  00087baf5cef7a.jpg      humpback_whale  8e5253662392   \n",
       "\n",
       "                                            img_path  fold  target  \n",
       "0  ../128x128/train_images-128-128/train_images-1...     0       0  \n",
       "1  ../128x128/train_images-128-128/train_images-1...     2       1  \n",
       "2  ../128x128/train_images-128-128/train_images-1...     4       2  \n",
       "3  ../128x128/train_images-128-128/train_images-1...     4       3  \n",
       "4  ../128x128/train_images-128-128/train_images-1...     1       4  "
      ]
     },
     "execution_count": 158,
     "metadata": {},
     "output_type": "execute_result"
    }
   ],
   "source": [
    "df = pd.read_csv('../cleaned_train_5_fold_individual_ids.csv')\n",
    "\n",
    "with open('../label2ids_individual_ids.json') as json_file:\n",
    "    label2ids = json.load(json_file)\n",
    "    \n",
    "args.num_labels = len(label2ids)\n",
    "args.labels = label2ids\n",
    "\n",
    "df.head()"
   ]
  },
  {
   "cell_type": "markdown",
   "id": "f1baab6e",
   "metadata": {},
   "source": [
    "# Dataloader"
   ]
  },
  {
   "cell_type": "code",
   "execution_count": 6,
   "id": "d1d75a7b",
   "metadata": {},
   "outputs": [],
   "source": [
    "# Sanity check\n",
    "if DEBUG:\n",
    "    # Get Split\n",
    "    train_df = df[df.fold != 0]\n",
    "    valid_df = df[df.fold == 0]\n",
    "\n",
    "    # Get train and validation loaders\n",
    "    dataset = GetDataloader(args)\n",
    "    trainloader = dataset.dataloader(train_df, data_type='train')\n",
    "    validloader = dataset.dataloader(valid_df, data_type='valid')\n",
    "\n",
    "    # Display a batch\n",
    "    if args.use_arcface:\n",
    "        sample_inputs, sample_labels = next(iter(trainloader))\n",
    "        sample_imgs, sample_labels = sample_inputs['img_input'], sample_inputs['label_input']\n",
    "    else:\n",
    "        sample_imgs, sample_labels = next(iter(trainloader))\n",
    "\n",
    "    show_batch = ShowBatch(args)\n",
    "    show_batch.show_batch(sample_imgs, sample_labels)"
   ]
  },
  {
   "cell_type": "markdown",
   "id": "d16b6305",
   "metadata": {},
   "source": [
    "# Model"
   ]
  },
  {
   "cell_type": "code",
   "execution_count": 7,
   "id": "b9b39728",
   "metadata": {},
   "outputs": [],
   "source": [
    "if DEBUG:\n",
    "    tf.keras.backend.clear_session()\n",
    "    \n",
    "    if args.use_arcface:\n",
    "        get_model = ArcFaceSupervisedModel(args)\n",
    "    else:\n",
    "        get_model = SimpleSupervisedModel(args)\n",
    "        \n",
    "    model = get_model.get_efficientnet()\n",
    "    model.summary()"
   ]
  },
  {
   "cell_type": "markdown",
   "id": "20adc528",
   "metadata": {},
   "source": [
    "# Callbacks"
   ]
  },
  {
   "cell_type": "code",
   "execution_count": 8,
   "id": "469dc68a-0f3f-4c52-af75-c39924032f66",
   "metadata": {},
   "outputs": [],
   "source": [
    "callbacks = GetCallbacks(args)"
   ]
  },
  {
   "cell_type": "markdown",
   "id": "c0b2cc61",
   "metadata": {},
   "source": [
    "# Train"
   ]
  },
  {
   "cell_type": "code",
   "execution_count": 9,
   "id": "99725906",
   "metadata": {},
   "outputs": [
    {
     "name": "stdout",
     "output_type": "stream",
     "text": [
      "Num fold:  4\n"
     ]
    },
    {
     "name": "stderr",
     "output_type": "stream",
     "text": [
      "/opt/conda/lib/python3.7/site-packages/albumentations/augmentations/transforms.py:691: FutureWarning: This class has been deprecated. Please use CoarseDropout\n",
      "  FutureWarning,\n",
      "\u001b[34m\u001b[1mwandb\u001b[0m: Currently logged in as: \u001b[33mayut\u001b[0m (use `wandb login --relogin` to force relogin)\n",
      "\u001b[34m\u001b[1mwandb\u001b[0m: \u001b[33mWARNING\u001b[0m Serializing object of type dict that is 589936 bytes\n"
     ]
    },
    {
     "data": {
      "text/html": [
       "\n",
       "                    Syncing run <strong><a href=\"https://wandb.ai/ayut/happywhale/runs/2nemp5js\" target=\"_blank\">23005S4V_4_train</a></strong> to <a href=\"https://wandb.ai/ayut/happywhale\" target=\"_blank\">Weights & Biases</a> (<a href=\"https://docs.wandb.com/integrations/jupyter.html\" target=\"_blank\">docs</a>).<br/>\n",
       "\n",
       "                "
      ],
      "text/plain": [
       "<IPython.core.display.HTML object>"
      ]
     },
     "metadata": {},
     "output_type": "display_data"
    },
    {
     "name": "stdout",
     "output_type": "stream",
     "text": [
      "Epoch 1/30\n",
      "160/160 [==============================] - 96s 420ms/step - loss: 8.3741 - acc: 0.0144 - top@1_acc: 0.0144 - top@5_acc: 0.0459 - val_loss: 7.5828 - val_acc: 0.0247 - val_top@1_acc: 0.0247 - val_top@5_acc: 0.0783\n",
      "Epoch 2/30\n",
      "160/160 [==============================] - 58s 358ms/step - loss: 7.2539 - acc: 0.0315 - top@1_acc: 0.0315 - top@5_acc: 0.0930 - val_loss: 7.1706 - val_acc: 0.0410 - val_top@1_acc: 0.0410 - val_top@5_acc: 0.1121\n",
      "Epoch 3/30\n",
      "160/160 [==============================] - 57s 356ms/step - loss: 6.5594 - acc: 0.0515 - top@1_acc: 0.0515 - top@5_acc: 0.1421 - val_loss: 7.0179 - val_acc: 0.0547 - val_top@1_acc: 0.0547 - val_top@5_acc: 0.1396\n",
      "Epoch 4/30\n",
      "160/160 [==============================] - 57s 355ms/step - loss: 5.8676 - acc: 0.0757 - top@1_acc: 0.0757 - top@5_acc: 0.1966 - val_loss: 7.0084 - val_acc: 0.0650 - val_top@1_acc: 0.0650 - val_top@5_acc: 0.1585\n",
      "Epoch 5/30\n",
      "160/160 [==============================] - 58s 360ms/step - loss: 5.1555 - acc: 0.1123 - top@1_acc: 0.1123 - top@5_acc: 0.2703 - val_loss: 7.0927 - val_acc: 0.0724 - val_top@1_acc: 0.0724 - val_top@5_acc: 0.1716\n",
      "Epoch 6/30\n",
      "160/160 [==============================] - 57s 357ms/step - loss: 4.4386 - acc: 0.1634 - top@1_acc: 0.1634 - top@5_acc: 0.3630 - val_loss: 7.2829 - val_acc: 0.0780 - val_top@1_acc: 0.0780 - val_top@5_acc: 0.1785\n",
      "Epoch 7/30\n",
      "160/160 [==============================] - 57s 356ms/step - loss: 3.7771 - acc: 0.2325 - top@1_acc: 0.2325 - top@5_acc: 0.4704 - val_loss: 7.5309 - val_acc: 0.0825 - val_top@1_acc: 0.0825 - val_top@5_acc: 0.1855\n",
      "Epoch 8/30\n",
      "160/160 [==============================] - 58s 359ms/step - loss: 3.2502 - acc: 0.3156 - top@1_acc: 0.3156 - top@5_acc: 0.5640 - val_loss: 7.3143 - val_acc: 0.1038 - val_top@1_acc: 0.1038 - val_top@5_acc: 0.2116\n",
      "Epoch 9/30\n",
      "160/160 [==============================] - 57s 355ms/step - loss: 2.9526 - acc: 0.3628 - top@1_acc: 0.3628 - top@5_acc: 0.6200 - val_loss: 7.3020 - val_acc: 0.1082 - val_top@1_acc: 0.1082 - val_top@5_acc: 0.2194\n",
      "Epoch 10/30\n",
      "160/160 [==============================] - 57s 355ms/step - loss: 2.7571 - acc: 0.3997 - top@1_acc: 0.3997 - top@5_acc: 0.6578 - val_loss: 7.3521 - val_acc: 0.1124 - val_top@1_acc: 0.1124 - val_top@5_acc: 0.2252\n",
      "Epoch 11/30\n",
      "160/160 [==============================] - 57s 354ms/step - loss: 2.7200 - acc: 0.4169 - top@1_acc: 0.4169 - top@5_acc: 0.6662 - val_loss: 7.2244 - val_acc: 0.1160 - val_top@1_acc: 0.1160 - val_top@5_acc: 0.2312\n",
      "Epoch 12/30\n",
      "160/160 [==============================] - 57s 356ms/step - loss: 2.6771 - acc: 0.4280 - top@1_acc: 0.4280 - top@5_acc: 0.6752 - val_loss: 7.2323 - val_acc: 0.1195 - val_top@1_acc: 0.1195 - val_top@5_acc: 0.2368\n",
      "Epoch 13/30\n",
      "160/160 [==============================] - 57s 356ms/step - loss: 2.6103 - acc: 0.4400 - top@1_acc: 0.4400 - top@5_acc: 0.6874 - val_loss: 7.1990 - val_acc: 0.1198 - val_top@1_acc: 0.1198 - val_top@5_acc: 0.2361\n",
      "Epoch 14/30\n",
      "160/160 [==============================] - 57s 353ms/step - loss: 2.5354 - acc: 0.4567 - top@1_acc: 0.4567 - top@5_acc: 0.7002 - val_loss: 7.2117 - val_acc: 0.1205 - val_top@1_acc: 0.1205 - val_top@5_acc: 0.2347\n",
      "Epoch 15/30\n",
      "160/160 [==============================] - 57s 354ms/step - loss: 2.5124 - acc: 0.4580 - top@1_acc: 0.4580 - top@5_acc: 0.7039 - val_loss: 7.2148 - val_acc: 0.1208 - val_top@1_acc: 0.1208 - val_top@5_acc: 0.2368\n",
      "Epoch 16/30\n",
      "160/160 [==============================] - 57s 355ms/step - loss: 2.4890 - acc: 0.4622 - top@1_acc: 0.4622 - top@5_acc: 0.7110 - val_loss: 7.2397 - val_acc: 0.1187 - val_top@1_acc: 0.1187 - val_top@5_acc: 0.2388\n",
      "Epoch 17/30\n",
      "160/160 [==============================] - 57s 353ms/step - loss: 2.4725 - acc: 0.4664 - top@1_acc: 0.4664 - top@5_acc: 0.7133 - val_loss: 7.2314 - val_acc: 0.1238 - val_top@1_acc: 0.1238 - val_top@5_acc: 0.2371\n",
      "Epoch 18/30\n",
      "160/160 [==============================] - 57s 356ms/step - loss: 2.4726 - acc: 0.4633 - top@1_acc: 0.4633 - top@5_acc: 0.7106 - val_loss: 7.2336 - val_acc: 0.1206 - val_top@1_acc: 0.1206 - val_top@5_acc: 0.2382\n",
      "Epoch 19/30\n",
      "160/160 [==============================] - 57s 354ms/step - loss: 2.4586 - acc: 0.4700 - top@1_acc: 0.4700 - top@5_acc: 0.7158 - val_loss: 7.2407 - val_acc: 0.1227 - val_top@1_acc: 0.1227 - val_top@5_acc: 0.2373\n",
      "Epoch 20/30\n",
      "160/160 [==============================] - 57s 355ms/step - loss: 2.4652 - acc: 0.4662 - top@1_acc: 0.4662 - top@5_acc: 0.7122 - val_loss: 7.2339 - val_acc: 0.1235 - val_top@1_acc: 0.1235 - val_top@5_acc: 0.2373\n",
      "Epoch 21/30\n",
      "160/160 [==============================] - 57s 355ms/step - loss: 2.4500 - acc: 0.4729 - top@1_acc: 0.4729 - top@5_acc: 0.7146 - val_loss: 7.2423 - val_acc: 0.1239 - val_top@1_acc: 0.1239 - val_top@5_acc: 0.2394\n",
      "Epoch 22/30\n",
      "160/160 [==============================] - 57s 356ms/step - loss: 2.4687 - acc: 0.4665 - top@1_acc: 0.4665 - top@5_acc: 0.7112 - val_loss: 7.2372 - val_acc: 0.1196 - val_top@1_acc: 0.1196 - val_top@5_acc: 0.2386\n",
      "Epoch 23/30\n",
      "160/160 [==============================] - 57s 356ms/step - loss: 2.4499 - acc: 0.4697 - top@1_acc: 0.4697 - top@5_acc: 0.7174 - val_loss: 7.2426 - val_acc: 0.1225 - val_top@1_acc: 0.1225 - val_top@5_acc: 0.2384\n",
      "Epoch 24/30\n",
      "160/160 [==============================] - 57s 354ms/step - loss: 2.4538 - acc: 0.4694 - top@1_acc: 0.4694 - top@5_acc: 0.7151 - val_loss: 7.2335 - val_acc: 0.1210 - val_top@1_acc: 0.1210 - val_top@5_acc: 0.2380\n",
      "Epoch 25/30\n",
      "160/160 [==============================] - 57s 356ms/step - loss: 2.4609 - acc: 0.4685 - top@1_acc: 0.4685 - top@5_acc: 0.7151 - val_loss: 7.2443 - val_acc: 0.1213 - val_top@1_acc: 0.1213 - val_top@5_acc: 0.2375\n",
      "Epoch 26/30\n",
      "160/160 [==============================] - 57s 353ms/step - loss: 2.4561 - acc: 0.4699 - top@1_acc: 0.4699 - top@5_acc: 0.7159 - val_loss: 7.2415 - val_acc: 0.1209 - val_top@1_acc: 0.1209 - val_top@5_acc: 0.2378\n",
      "Epoch 27/30\n",
      "160/160 [==============================] - 57s 356ms/step - loss: 2.4604 - acc: 0.4681 - top@1_acc: 0.4681 - top@5_acc: 0.7147 - val_loss: 7.2454 - val_acc: 0.1214 - val_top@1_acc: 0.1214 - val_top@5_acc: 0.2378\n",
      "Epoch 28/30\n",
      "160/160 [==============================] - 57s 354ms/step - loss: 2.4645 - acc: 0.4657 - top@1_acc: 0.4657 - top@5_acc: 0.7137 - val_loss: 7.2422 - val_acc: 0.1213 - val_top@1_acc: 0.1213 - val_top@5_acc: 0.2367\n",
      "Epoch 29/30\n",
      "160/160 [==============================] - 57s 353ms/step - loss: 2.4565 - acc: 0.4682 - top@1_acc: 0.4682 - top@5_acc: 0.7142 - val_loss: 7.2402 - val_acc: 0.1220 - val_top@1_acc: 0.1220 - val_top@5_acc: 0.2378\n",
      "Epoch 30/30\n",
      "160/160 [==============================] - 57s 354ms/step - loss: 2.4666 - acc: 0.4665 - top@1_acc: 0.4665 - top@5_acc: 0.7112 - val_loss: 7.2376 - val_acc: 0.1213 - val_top@1_acc: 0.1213 - val_top@5_acc: 0.2399\n"
     ]
    },
    {
     "name": "stderr",
     "output_type": "stream",
     "text": [
      "/opt/conda/lib/python3.7/site-packages/keras/utils/generic_utils.py:497: CustomMaskWarning: Custom mask layers require a config and must override get_config. When loading, the custom mask layer must be passed to the custom_objects argument.\n",
      "  category=CustomMaskWarning)\n"
     ]
    },
    {
     "data": {
      "text/html": [
       "<br/>Waiting for W&B process to finish, PID 4384... <strong style=\"color:green\">(success).</strong>"
      ],
      "text/plain": [
       "<IPython.core.display.HTML object>"
      ]
     },
     "metadata": {},
     "output_type": "display_data"
    },
    {
     "data": {
      "application/vnd.jupyter.widget-view+json": {
       "model_id": "",
       "version_major": 2,
       "version_minor": 0
      },
      "text/plain": [
       "VBox(children=(Label(value=' 0.00MB of 0.00MB uploaded (0.00MB deduped)\\r'), FloatProgress(value=1.0, max=1.0)…"
      ]
     },
     "metadata": {},
     "output_type": "display_data"
    },
    {
     "data": {
      "text/html": [
       "<style>\n",
       "    table.wandb td:nth-child(1) { padding: 0 10px; text-align: right }\n",
       "    .wandb-row { display: flex; flex-direction: row; flex-wrap: wrap; width: 100% }\n",
       "    .wandb-col { display: flex; flex-direction: column; flex-basis: 100%; flex: 1; padding: 10px; }\n",
       "    </style>\n",
       "<div class=\"wandb-row\"><div class=\"wandb-col\">\n",
       "<h3>Run history:</h3><br/><table class=\"wandb\"><tr><td>acc</td><td>▁▁▂▂▂▃▄▆▆▇▇▇▇█████████████████</td></tr><tr><td>epoch</td><td>▁▁▁▂▂▂▂▃▃▃▃▄▄▄▄▅▅▅▅▆▆▆▆▇▇▇▇███</td></tr><tr><td>loss</td><td>█▇▆▅▄▃▃▂▂▁▁▁▁▁▁▁▁▁▁▁▁▁▁▁▁▁▁▁▁▁</td></tr><tr><td>top@1_acc</td><td>▁▁▂▂▂▃▄▆▆▇▇▇▇█████████████████</td></tr><tr><td>top@5_acc</td><td>▁▁▂▃▃▄▅▆▇▇▇███████████████████</td></tr><tr><td>val_acc</td><td>▁▂▃▄▄▅▅▇▇▇▇███████████████████</td></tr><tr><td>val_loss</td><td>█▃▁▁▂▄▇▅▅▅▄▄▃▃▄▄▄▄▄▄▄▄▄▄▄▄▄▄▄▄</td></tr><tr><td>val_top@1_acc</td><td>▁▂▃▄▄▅▅▇▇▇▇███████████████████</td></tr><tr><td>val_top@5_acc</td><td>▁▂▄▄▅▅▆▇▇▇████████████████████</td></tr></table><br/></div><div class=\"wandb-col\">\n",
       "<h3>Run summary:</h3><br/><table class=\"wandb\"><tr><td>acc</td><td>0.46648</td></tr><tr><td>best_epoch</td><td>3</td></tr><tr><td>best_val_loss</td><td>7.00836</td></tr><tr><td>epoch</td><td>29</td></tr><tr><td>loss</td><td>2.46656</td></tr><tr><td>top@1_acc</td><td>0.46648</td></tr><tr><td>top@5_acc</td><td>0.71125</td></tr><tr><td>val_acc</td><td>0.1213</td></tr><tr><td>val_loss</td><td>7.23763</td></tr><tr><td>val_top@1_acc</td><td>0.1213</td></tr><tr><td>val_top@5_acc</td><td>0.23986</td></tr></table>\n",
       "</div></div>\n",
       "Synced 5 W&B file(s), 1 media file(s), 0 artifact file(s) and 0 other file(s)\n",
       "<br/>Synced <strong style=\"color:#cdcd00\">23005S4V_4_train</strong>: <a href=\"https://wandb.ai/ayut/happywhale/runs/2nemp5js\" target=\"_blank\">https://wandb.ai/ayut/happywhale/runs/2nemp5js</a><br/>\n",
       "Find logs at: <code>./wandb/run-20220211_190238-2nemp5js/logs</code><br/>\n"
      ],
      "text/plain": [
       "<IPython.core.display.HTML object>"
      ]
     },
     "metadata": {},
     "output_type": "display_data"
    }
   ],
   "source": [
    "if DEBUG:\n",
    "    args.epochs = 10\n",
    "    args.num_folds = 1\n",
    "\n",
    "for fold in range(4, args.num_folds):\n",
    "    print('Num fold: ', fold)\n",
    "    # Get dataloaders\n",
    "    train_df = df[df.fold != fold]\n",
    "    valid_df = df[df.fold == fold]\n",
    "\n",
    "    dataset = GetDataloader(args)\n",
    "    trainloader = dataset.dataloader(train_df)\n",
    "    validloader = dataset.dataloader(valid_df, data_type='valid')\n",
    "    \n",
    "    # Initialize model\n",
    "    tf.keras.backend.clear_session()\n",
    "    if args.use_arcface:\n",
    "        get_model = ArcFaceSupervisedModel(args)\n",
    "    else:\n",
    "        get_model = SimpleSupervisedModel(args)\n",
    "        \n",
    "    model = get_model.get_efficientnet()\n",
    "\n",
    "    # Compile model\n",
    "    optimizer = 'adam'\n",
    "    if args.use_arcface:\n",
    "        loss = 'binary_crossentropy'\n",
    "    else:\n",
    "        loss = 'categorical_crossentropy'\n",
    "        \n",
    "    model.compile(optimizer,\n",
    "                  loss=loss,\n",
    "                  metrics=['acc',\n",
    "                           tf.keras.metrics.TopKCategoricalAccuracy(1, name='top@1_acc'),\n",
    "                           tf.keras.metrics.TopKCategoricalAccuracy(5, name='top@5_acc')])\n",
    "\n",
    "    # Initialize W&B run\n",
    "    run = wandb.init(project='happywhale',\n",
    "                     config=vars(args),\n",
    "                     group=f'effnetb0-{args.exp_id}',\n",
    "                     job_type='train',\n",
    "                     name=f'{args.exp_id}_{fold}_train')\n",
    "\n",
    "    # Train\n",
    "    model.fit(trainloader,\n",
    "              epochs=args.epochs,\n",
    "              validation_data=validloader,\n",
    "              callbacks=[WandbCallback(save_model=False),\n",
    "                         callbacks.get_reduce_lr_on_plateau()])\n",
    "    \n",
    "    # Save the model\n",
    "    os.makedirs(f'{args.model_save_path}/{args.exp_id}', exist_ok=True)\n",
    "    model.save(f'{args.model_save_path}/{args.exp_id}/model_{fold}')\n",
    "    \n",
    "    # Load the model\n",
    "    model = tf.keras.models.load_model(f'{args.model_save_path}/{args.exp_id}/model_{fold}')\n",
    "    \n",
    "    # Evaluate and prepare oof \n",
    "    preds = model.predict(validloader)\n",
    "    df.loc[list(df[df.fold == fold].index), 'preds'] = np.argmax(preds, axis=1)\n",
    "    \n",
    "    # Get Embedding and save it as npz files along with validation index\n",
    "    feature_extractor = get_feature_extractor(model)\n",
    "    embedding = feature_extractor.predict(validloader)\n",
    "\n",
    "    os.makedirs(f'{args.embedding_save_path}/{args.exp_id}', exist_ok=True)\n",
    "    np.savez(f'{args.embedding_save_path}/{args.exp_id}/embedding_{fold}.npz',\n",
    "             embedding=embedding,\n",
    "             index=np.array(valid_df.index))\n",
    "    \n",
    "    del trainloader, validloader, model, feature_extractor, embedding\n",
    "    _ = gc.collect()\n",
    "\n",
    "    # Close W&B run\n",
    "    run.finish()\n",
    "    \n",
    "df[['image', 'individual_id', 'target', 'preds']].to_csv('../oof.csv', index=False)"
   ]
  },
  {
   "cell_type": "code",
   "execution_count": 20,
   "id": "a529625a-0337-49af-bacc-cc6a4e56393e",
   "metadata": {},
   "outputs": [],
   "source": [
    "# oof_df = pd.read_csv('../oof.csv')\n",
    "# oof_df_copy = oof_df.copy()\n",
    "\n",
    "# def correct_preds(row):\n",
    "#     return int(row.preds)\n",
    "\n",
    "# oof_df_copy['preds'] = oof_df_copy.apply(lambda row: correct_preds(row), axis=1)\n",
    "\n",
    "# metric = tf.keras.metrics.SparseCategoricalCrossentropy()\n",
    "# metric.update_state(oof_df_copy.target.values.reshape(-1,1), oof_df_copy.preds.values.reshape(-1,1))\n",
    "# print(f'CV Score: {metric.result().numpy()}')\n",
    "\n",
    "# oof_df_copy[oof_df_copy.target == oof_df_copy.preds]"
   ]
  },
  {
   "cell_type": "code",
   "execution_count": null,
   "id": "88c29449-880d-488e-b79b-10dd08a8b67a",
   "metadata": {},
   "outputs": [],
   "source": []
  }
 ],
 "metadata": {
  "environment": {
   "name": "tf2-gpu.2-5.m73",
   "type": "gcloud",
   "uri": "gcr.io/deeplearning-platform-release/tf2-gpu.2-5:m73"
  },
  "kernelspec": {
   "display_name": "Python 3 (ipykernel)",
   "language": "python",
   "name": "python3"
  },
  "language_info": {
   "codemirror_mode": {
    "name": "ipython",
    "version": 3
   },
   "file_extension": ".py",
   "mimetype": "text/x-python",
   "name": "python",
   "nbconvert_exporter": "python",
   "pygments_lexer": "ipython3",
   "version": "3.7.12"
  }
 },
 "nbformat": 4,
 "nbformat_minor": 5
}
